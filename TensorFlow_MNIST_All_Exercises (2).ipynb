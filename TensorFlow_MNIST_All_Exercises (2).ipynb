{
  "nbformat": 4,
  "nbformat_minor": 0,
  "metadata": {
    "kernelspec": {
      "display_name": "Python 3",
      "language": "python",
      "name": "python3"
    },
    "language_info": {
      "codemirror_mode": {
        "name": "ipython",
        "version": 3
      },
      "file_extension": ".py",
      "mimetype": "text/x-python",
      "name": "python",
      "nbconvert_exporter": "python",
      "pygments_lexer": "ipython3",
      "version": "3.7.4"
    },
    "colab": {
      "name": "TensorFlow_MNIST_All_Exercises.ipynb",
      "provenance": [],
      "collapsed_sections": [
        "nJW522xN2U4G"
      ]
    }
  },
  "cells": [
    {
      "cell_type": "markdown",
      "metadata": {
        "id": "1p12JSZ62U31",
        "colab_type": "text"
      },
      "source": [
        "# Exercises\n",
        "\n",
        "There are several main adjustments you may try.\n",
        "\n",
        "Please pay attention to the time it takes for each epoch to conclude.\n",
        "\n",
        "Using the code from the lecture as the basis, fiddle with the hyperparameters of the algorithm.\n",
        "\n",
        "1. The *width* (the hidden layer size) of the algorithm. Try a hidden layer size of 200. How does the validation accuracy of the model change? What about the time it took the algorithm to train? Can you find a hidden layer size that does better?\n",
        "\n",
        "2. The *depth* of the algorithm. Add another hidden layer to the algorithm. This is an extremely important exercise! How does the validation accuracy change? What about the time it took the algorithm to train? Hint: Be careful with the shapes of the weights and the biases.\n",
        "\n",
        "3. The *width and depth* of the algorithm. Add as many additional layers as you need to reach 5 hidden layers. Moreover, adjust the width of the algorithm as you find suitable. How does the validation accuracy change? What about the time it took the algorithm to train?\n",
        "\n",
        "4. Fiddle with the activation functions. Try applying sigmoid transformation to both layers. The sigmoid activation is given by the string 'sigmoid'.\n",
        "\n",
        "5. Fiddle with the activation functions. Try applying a ReLu to the first hidden layer and tanh to the second one. The tanh activation is given by the string 'tanh'.\n",
        "\n",
        "6. Adjust the batch size. Try a batch size of 10000. How does the required time change? What about the accuracy?\n",
        "\n",
        "7. Adjust the batch size. Try a batch size of 1. That's the SGD. How do the time and accuracy change? Is the result coherent with the theory?\n",
        "\n",
        "8. Adjust the learning rate. Try a value of 0.0001. Does it make a difference?\n",
        "\n",
        "9. Adjust the learning rate. Try a value of 0.02. Does it make a difference?\n",
        "\n",
        "10. Combine all the methods above and try to reach a validation accuracy of 98.5+ percent.\n",
        "\n",
        "Good luck!"
      ]
    },
    {
      "cell_type": "markdown",
      "metadata": {
        "id": "53P6zlj42U34",
        "colab_type": "text"
      },
      "source": [
        "# Deep Neural Network for MNIST Classification\n",
        "\n",
        "We'll apply all the knowledge from the lectures in this section to write a deep neural network. The problem we've chosen is referred to as the \"Hello World\" of deep learning because for most students it is the first deep learning algorithm they see.\n",
        "\n",
        "The dataset is called MNIST and refers to handwritten digit recognition. You can find more about it on Yann LeCun's website (Director of AI Research, Facebook). He is one of the pioneers of what we've been talking about and of more complex approaches that are widely used today, such as covolutional neural networks (CNNs). \n",
        "\n",
        "The dataset provides 70,000 images (28x28 pixels) of handwritten digits (1 digit per image). \n",
        "\n",
        "The goal is to write an algorithm that detects which digit is written. Since there are only 10 digits (0, 1, 2, 3, 4, 5, 6, 7, 8, 9), this is a classification problem with 10 classes. \n",
        "\n",
        "Our goal would be to build a neural network with 2 hidden layers."
      ]
    },
    {
      "cell_type": "code",
      "metadata": {
        "id": "JlIrVx0P2e8O",
        "colab_type": "code",
        "colab": {}
      },
      "source": [
        "import tensorflow.compat.v2 as tf\n",
        "import tensorflow_datasets as tfds"
      ],
      "execution_count": 0,
      "outputs": []
    },
    {
      "cell_type": "markdown",
      "metadata": {
        "id": "nJW522xN2U4G",
        "colab_type": "text"
      },
      "source": [
        "## Import the relevant packages"
      ]
    },
    {
      "cell_type": "code",
      "metadata": {
        "id": "1gUaEiFG2U4I",
        "colab_type": "code",
        "colab": {}
      },
      "source": [
        "import numpy as np\n",
        "import tensorflow as tf\n",
        "\n",
        "# TensorFLow includes a data provider for MNIST that we'll use.\n",
        "# It comes with the tensorflow-datasets module, therefore, if you haven't please install the package using\n",
        "# pip install tensorflow-datasets \n",
        "# or\n",
        "# conda install tensorflow-datasets\n",
        "import matplotlib.pyplot as plt\n",
        "import numpy as np\n",
        "import tensorflow_datasets as tfds\n",
        "# these datasets will be stored in C:\\Users\\*USERNAME*\\tensorflow_datasets\\...\n",
        "# the first time you download a dataset, it is stored in the respective folder \n",
        "# every other time, it is automatically loading the copy on your computer "
      ],
      "execution_count": 0,
      "outputs": []
    },
    {
      "cell_type": "markdown",
      "metadata": {
        "id": "2jrABG1v2U4R",
        "colab_type": "text"
      },
      "source": [
        "## Data\n",
        "\n",
        "That's where we load and preprocess our data."
      ]
    },
    {
      "cell_type": "code",
      "metadata": {
        "id": "P-PD-Uto2U4S",
        "colab_type": "code",
        "colab": {}
      },
      "source": [
        "# remember the comment from above\n",
        "# these datasets will be stored in C:\\Users\\*USERNAME*\\tensorflow_datasets\\...\n",
        "# the first time you download a dataset, it is stored in the respective folder \n",
        "# every other time, it is automatically loading the copy on your computer \n",
        "\n",
        "# tfds.load actually loads a dataset (or downloads and then loads if that's the first time you use it) \n",
        "# in our case, we are interesteed in the MNIST; the name of the dataset is the only mandatory argument\n",
        "# there are other arguments we can specify, which we can find useful\n",
        "# mnist_dataset = tfds.load(name='mnist', as_supervised=True)\n",
        "mnist_dataset, mnist_info = tfds.load(name='mnist', with_info=True, as_supervised=True)\n",
        "# with_info=True will also provide us with a tuple containing information about the version, features, number of samples\n",
        "# we will use this information a bit below and we will store it in mnist_info\n",
        "\n",
        "# as_supervised=True will load the dataset in a 2-tuple structure (input, target) \n",
        "# alternatively, as_supervised=False, would return a dictionary\n",
        "# obviously we prefer to have our inputs and targets separated \n",
        "\n",
        "# once we have loaded the dataset, we can easily extract the training and testing dataset with the built references\n",
        "mnist_train, mnist_test = mnist_dataset['train'], mnist_dataset['test']\n",
        "\n",
        "# by default, TF has training and testing datasets, but no validation sets\n",
        "# thus we must split it on our own\n",
        "\n",
        "# we start by defining the number of validation samples as a % of the train samples\n",
        "# this is also where we make use of mnist_info (we don't have to count the observations)\n",
        "num_validation_samples = 0.1 * mnist_info.splits['train'].num_examples\n",
        "# let's cast this number to an integer, as a float may cause an error along the way\n",
        "num_validation_samples = tf.cast(num_validation_samples, tf.int64)\n",
        "\n",
        "# let's also store the number of test samples in a dedicated variable (instead of using the mnist_info one)\n",
        "num_test_samples = mnist_info.splits['test'].num_examples\n",
        "# once more, we'd prefer an integer (rather than the default float)\n",
        "num_test_samples = tf.cast(num_test_samples, tf.int64)\n",
        "\n",
        "\n",
        "# normally, we would like to scale our data in some way to make the result more numerically stable\n",
        "# in this case we will simply prefer to have inputs between 0 and 1\n",
        "# let's define a function called: scale, that will take an MNIST image and its label\n",
        "def scale(image, label):\n",
        "    # we make sure the value is a float\n",
        "    image = tf.cast(image, tf.float32)\n",
        "    # since the possible values for the inputs are 0 to 255 (256 different shades of grey)\n",
        "    # if we divide each element by 255, we would get the desired result -> all elements will be between 0 and 1 \n",
        "    image /= 255.\n",
        "\n",
        "    return image, label\n",
        "\n",
        "\n",
        "# the method .map() allows us to apply a custom transformation to a given dataset\n",
        "# we have already decided that we will get the validation data from mnist_train, so \n",
        "scaled_train_and_validation_data = mnist_train.map(scale)\n",
        "\n",
        "# finally, we scale and batch the test data\n",
        "# we scale it so it has the same magnitude as the train and validation\n",
        "# there is no need to shuffle it, because we won't be training on the test data\n",
        "# there would be a single batch, equal to the size of the test data\n",
        "test_data = mnist_test.map(scale)\n",
        "\n",
        "\n",
        "# let's also shuffle the data\n",
        "\n",
        "BUFFER_SIZE = 10000\n",
        "# this BUFFER_SIZE parameter is here for cases when we're dealing with enormous datasets\n",
        "# then we can't shuffle the whole dataset in one go because we can't fit it all in memory\n",
        "# so instead TF only stores BUFFER_SIZE samples in memory at a time and shuffles them\n",
        "# if BUFFER_SIZE=1 => no shuffling will actually happen\n",
        "# if BUFFER_SIZE >= num samples => shuffling is uniform\n",
        "# BUFFER_SIZE in between - a computational optimization to approximate uniform shuffling\n",
        "\n",
        "# luckily for us, there is a shuffle method readily available and we just need to specify the buffer size\n",
        "shuffled_train_and_validation_data = scaled_train_and_validation_data.shuffle(BUFFER_SIZE)\n",
        "\n",
        "# once we have scaled and shuffled the data, we can proceed to actually extracting the train and validation\n",
        "# our validation data would be equal to 10% of the training set, which we've already calculated\n",
        "# we use the .take() method to take that many samples\n",
        "# finally, we create a batch with a batch size equal to the total number of validation samples\n",
        "validation_data = shuffled_train_and_validation_data.take(num_validation_samples)\n",
        "\n",
        "# similarly, the train_data is everything else, so we skip as many samples as there are in the validation dataset\n",
        "train_data = shuffled_train_and_validation_data.skip(num_validation_samples)\n",
        "\n",
        "# determine the batch size\n",
        "BATCH_SIZE = 100\n",
        "\n",
        "# we can also take advantage of the occasion to batch the train data\n",
        "# this would be very helpful when we train, as we would be able to iterate over the different batches\n",
        "train_data = train_data.batch(BATCH_SIZE)\n",
        "\n",
        "validation_data = validation_data.batch(num_validation_samples)\n",
        "\n",
        "# batch the test data\n",
        "test_data = test_data.batch(num_test_samples)\n",
        "\n",
        "\n",
        "# takes next batch (it is the only batch)\n",
        "# because as_supervized=True, we've got a 2-tuple structure\n",
        "validation_inputs, validation_targets = next(iter(validation_data))"
      ],
      "execution_count": 0,
      "outputs": []
    },
    {
      "cell_type": "markdown",
      "metadata": {
        "id": "-tgl6foT2U4W",
        "colab_type": "text"
      },
      "source": [
        "## Model"
      ]
    },
    {
      "cell_type": "markdown",
      "metadata": {
        "id": "iJqyIoGz2U4X",
        "colab_type": "text"
      },
      "source": [
        "### Outline the model\n",
        "When thinking about a deep learning algorithm, we mostly imagine building the model. So, let's do it :)"
      ]
    },
    {
      "cell_type": "code",
      "metadata": {
        "id": "fCrAG7Er2U4Y",
        "colab_type": "code",
        "colab": {}
      },
      "source": [
        "input_size = 784\n",
        "output_size = 10\n",
        "# Use same hidden layer size for both hidden layers. Not a necessity.\n",
        "hidden_layer_size = 50\n",
        "    \n",
        "# define how the model will look like\n",
        "model = tf.keras.Sequential([\n",
        "    \n",
        "    # the first layer (the input layer)\n",
        "    # each observation is 28x28x1 pixels, therefore it is a tensor of rank 3\n",
        "    # since we don't know CNNs yet, we don't know how to feed such input into our net, so we must flatten the images\n",
        "    # there is a convenient method 'Flatten' that simply takes our 28x28x1 tensor and orders it into a (None,) \n",
        "    # or (28x28x1,) = (784,) vector\n",
        "    # this allows us to actually create a feed forward neural network\n",
        "    tf.keras.layers.Flatten(input_shape=(28, 28, 1)), # input layer\n",
        "    \n",
        "    # tf.keras.layers.Dense is basically implementing: output = activation(dot(input, weight) + bias)\n",
        "    # it takes several arguments, but the most important ones for us are the hidden_layer_size and the activation function\n",
        "    tf.keras.layers.Dense(hidden_layer_size, activation='relu'), # 1st hidden layer\n",
        "    tf.keras.layers.Dense(hidden_layer_size, activation='relu'), # 2nd hidden layer\n",
        "    \n",
        "    # the final layer is no different, we just make sure to activate it with softmax\n",
        "    tf.keras.layers.Dense(output_size, activation='softmax') # output layer\n",
        "])"
      ],
      "execution_count": 0,
      "outputs": []
    },
    {
      "cell_type": "markdown",
      "metadata": {
        "id": "sZ-S6FU52U4c",
        "colab_type": "text"
      },
      "source": [
        "### Choose the optimizer and the loss function"
      ]
    },
    {
      "cell_type": "code",
      "metadata": {
        "id": "Q2Pf8FY32U4e",
        "colab_type": "code",
        "colab": {}
      },
      "source": [
        "# we define the optimizer we'd like to use, \n",
        "# the loss function, \n",
        "# and the metrics we are interested in obtaining at each iteration\n",
        "model.compile(optimizer='adam', loss='sparse_categorical_crossentropy', metrics=['accuracy'])"
      ],
      "execution_count": 0,
      "outputs": []
    },
    {
      "cell_type": "markdown",
      "metadata": {
        "id": "AP2Jw3it2U4j",
        "colab_type": "text"
      },
      "source": [
        "### Training\n",
        "That's where we train the model we have built."
      ]
    },
    {
      "cell_type": "code",
      "metadata": {
        "id": "Byc1Ot-l2U4k",
        "colab_type": "code",
        "colab": {
          "base_uri": "https://localhost:8080/",
          "height": 204
        },
        "outputId": "732da985-cef4-471b-b886-f60a3320164d"
      },
      "source": [
        "# determine the maximum number of epochs\n",
        "NUM_EPOCHS = 5\n",
        "\n",
        "# we fit the model, specifying the\n",
        "# training data\n",
        "# the total number of epochs\n",
        "# and the validation data we just created ourselves in the format: (inputs,targets)\n",
        "model.fit(train_data, epochs=NUM_EPOCHS, validation_data=(validation_inputs, validation_targets), verbose =2)"
      ],
      "execution_count": 21,
      "outputs": [
        {
          "output_type": "stream",
          "text": [
            "Epoch 1/5\n",
            "540/540 - 10s - loss: 0.4201 - accuracy: 0.8781 - val_loss: 0.2124 - val_accuracy: 0.9355\n",
            "Epoch 2/5\n",
            "540/540 - 10s - loss: 0.1850 - accuracy: 0.9464 - val_loss: 0.1594 - val_accuracy: 0.9502\n",
            "Epoch 3/5\n",
            "540/540 - 10s - loss: 0.1436 - accuracy: 0.9574 - val_loss: 0.1379 - val_accuracy: 0.9577\n",
            "Epoch 4/5\n",
            "540/540 - 10s - loss: 0.1157 - accuracy: 0.9644 - val_loss: 0.1110 - val_accuracy: 0.9662\n",
            "Epoch 5/5\n",
            "540/540 - 10s - loss: 0.0982 - accuracy: 0.9708 - val_loss: 0.1019 - val_accuracy: 0.9678\n"
          ],
          "name": "stdout"
        },
        {
          "output_type": "execute_result",
          "data": {
            "text/plain": [
              "<tensorflow.python.keras.callbacks.History at 0x7f8fcdddec50>"
            ]
          },
          "metadata": {
            "tags": []
          },
          "execution_count": 21
        }
      ]
    },
    {
      "cell_type": "markdown",
      "metadata": {
        "id": "WbkgF-a22U4p",
        "colab_type": "text"
      },
      "source": [
        "## Test the model\n",
        "\n",
        "As we discussed in the lectures, after training on the training data and validating on the validation data, we test the final prediction power of our model by running it on the test dataset that the algorithm has NEVER seen before.\n",
        "\n",
        "It is very important to realize that fiddling with the hyperparameters overfits the validation dataset. \n",
        "\n",
        "The test is the absolute final instance. You should not test before you are completely done with adjusting your model.\n",
        "\n",
        "If you adjust your model after testing, you will start overfitting the test dataset, which will defeat its purpose."
      ]
    },
    {
      "cell_type": "code",
      "metadata": {
        "id": "pqgrlPbE2U4q",
        "colab_type": "code",
        "colab": {
          "base_uri": "https://localhost:8080/",
          "height": 34
        },
        "outputId": "309542db-ffb0-45d3-ca6a-a46d89282c89"
      },
      "source": [
        "test_loss, test_accuracy = model.evaluate(test_data)"
      ],
      "execution_count": 23,
      "outputs": [
        {
          "output_type": "stream",
          "text": [
            "1/1 [==============================] - 0s 1ms/step - loss: 0.1133 - accuracy: 0.9642\n"
          ],
          "name": "stdout"
        }
      ]
    },
    {
      "cell_type": "code",
      "metadata": {
        "id": "Bty7JoLE2U4v",
        "colab_type": "code",
        "colab": {
          "base_uri": "https://localhost:8080/",
          "height": 34
        },
        "outputId": "8b1384d6-1821-4aa5-a229-330251045da8"
      },
      "source": [
        "# We can apply some nice formatting if we want to\n",
        "print('Test loss: {0:.2f}. Test accuracy: {1:.2f}%'.format(test_loss, test_accuracy*100.))"
      ],
      "execution_count": 24,
      "outputs": [
        {
          "output_type": "stream",
          "text": [
            "Test loss: 0.11. Test accuracy: 96.42%\n"
          ],
          "name": "stdout"
        }
      ]
    },
    {
      "cell_type": "markdown",
      "metadata": {
        "id": "8ks8sco52U4z",
        "colab_type": "text"
      },
      "source": [
        "Using the initial model and hyperparameters given in this notebook, the final test accuracy should be roughly around 97%.\n",
        "\n",
        "Each time the code is rerun, we get a different accuracy as the batches are shuffled, the weights are initialized in a different way, etc.\n",
        "\n",
        "Finally, we have intentionally reached a suboptimal solution, so you can have space to build on it."
      ]
    },
    {
      "cell_type": "markdown",
      "metadata": {
        "id": "85UG_JOP38iD",
        "colab_type": "text"
      },
      "source": [
        "## Exercise 1: The *width* (the hidden layer size) of the algorithm. Try a hidden layer size of 200. How does the validation accuracy of the model change? What about the time it took the algorithm to train?"
      ]
    },
    {
      "cell_type": "code",
      "metadata": {
        "id": "QN-j7M3E4G0P",
        "colab_type": "code",
        "colab": {
          "base_uri": "https://localhost:8080/",
          "height": 221
        },
        "outputId": "5f375d41-e6fe-46e0-f74c-6865b97ae0fa"
      },
      "source": [
        "input_size = 784\n",
        "output_size = 10\n",
        "# Use same hidden layer size for both hidden layers. Not a necessity.\n",
        "hidden_layer_size = 200\n",
        "    \n",
        "# define how the model will look like\n",
        "model = tf.keras.Sequential([\n",
        "    \n",
        "    # the first layer (the input layer)\n",
        "    # each observation is 28x28x1 pixels, therefore it is a tensor of rank 3\n",
        "    # since we don't know CNNs yet, we don't know how to feed such input into our net, so we must flatten the images\n",
        "    # there is a convenient method 'Flatten' that simply takes our 28x28x1 tensor and orders it into a (None,) \n",
        "    # or (28x28x1,) = (784,) vector\n",
        "    # this allows us to actually create a feed forward neural network\n",
        "    tf.keras.layers.Flatten(input_shape=(28, 28, 1)), # input layer\n",
        "    \n",
        "    # tf.keras.layers.Dense is basically implementing: output = activation(dot(input, weight) + bias)\n",
        "    # it takes several arguments, but the most important ones for us are the hidden_layer_size and the activation function\n",
        "    tf.keras.layers.Dense(hidden_layer_size, activation='relu'), # 1st hidden layer\n",
        "    tf.keras.layers.Dense(hidden_layer_size, activation='relu'), # 2nd hidden layer\n",
        "    \n",
        "    # the final layer is no different, we just make sure to activate it with softmax\n",
        "    tf.keras.layers.Dense(output_size, activation='softmax') # output layer\n",
        "])\n",
        "\n",
        "# we define the optimizer we'd like to use, \n",
        "# the loss function, \n",
        "# and the metrics we are interested in obtaining at each iteration\n",
        "model.compile(optimizer='adam', loss='sparse_categorical_crossentropy', metrics=['accuracy'])\n",
        "\n",
        "# determine the maximum number of epochs\n",
        "NUM_EPOCHS = 5\n",
        "\n",
        "# we fit the model, specifying the\n",
        "# training data\n",
        "# the total number of epochs\n",
        "# and the validation data we just created ourselves in the format: (inputs,targets)\n",
        "model.fit(train_data, epochs=NUM_EPOCHS, validation_data=(validation_inputs, validation_targets), verbose =2)\n",
        "\n",
        "test_loss, test_accuracy = model.evaluate(test_data)\n",
        "\n",
        "# We can apply some nice formatting if we want to\n",
        "print('Test loss: {0:.2f}. Test accuracy: {1:.2f}%'.format(test_loss, test_accuracy*100.))"
      ],
      "execution_count": 25,
      "outputs": [
        {
          "output_type": "stream",
          "text": [
            "Epoch 1/5\n",
            "540/540 - 11s - loss: 0.2748 - accuracy: 0.9209 - val_loss: 0.1335 - val_accuracy: 0.9575\n",
            "Epoch 2/5\n",
            "540/540 - 11s - loss: 0.1036 - accuracy: 0.9685 - val_loss: 0.1068 - val_accuracy: 0.9660\n",
            "Epoch 3/5\n",
            "540/540 - 11s - loss: 0.0724 - accuracy: 0.9781 - val_loss: 0.0713 - val_accuracy: 0.9773\n",
            "Epoch 4/5\n",
            "540/540 - 11s - loss: 0.0542 - accuracy: 0.9831 - val_loss: 0.0539 - val_accuracy: 0.9820\n",
            "Epoch 5/5\n",
            "540/540 - 11s - loss: 0.0398 - accuracy: 0.9878 - val_loss: 0.0457 - val_accuracy: 0.9860\n",
            "1/1 [==============================] - 0s 1ms/step - loss: 0.0807 - accuracy: 0.9765\n",
            "Test loss: 0.08. Test accuracy: 97.65%\n"
          ],
          "name": "stdout"
        }
      ]
    },
    {
      "cell_type": "markdown",
      "metadata": {
        "id": "V4A9QHsL66Qf",
        "colab_type": "text"
      },
      "source": [
        "As you see from the result, we are able to get better test accuracy when increase the number of hidden layer size. The validation accuracy is significantly higher (as the algorithm with 50 hidden units was too simple of a model).\n",
        "Naturally, it takes the algorithm much longer to train (unless early stopping is triggered too soon).\n",
        "A hidden layer size of 500 (and not only) works even better."
      ]
    },
    {
      "cell_type": "markdown",
      "metadata": {
        "id": "LxxwvHa67Rm8",
        "colab_type": "text"
      },
      "source": [
        "## Exercise 2. The *depth* of the algorithm. Add another hidden layer to the algorithm. This is an extremely important exercise! How does the validation accuracy change? What about the time it took the algorithm to train? Hint: Be careful with the shapes of the weights and the biases."
      ]
    },
    {
      "cell_type": "code",
      "metadata": {
        "id": "9Zwdutf57etc",
        "colab_type": "code",
        "colab": {
          "base_uri": "https://localhost:8080/",
          "height": 221
        },
        "outputId": "996bbf43-7755-4b59-e3fc-31c1b5708603"
      },
      "source": [
        "input_size = 784\n",
        "output_size = 10\n",
        "# Use same hidden layer size for both hidden layers. Not a necessity.\n",
        "hidden_layer_size = 50\n",
        "    \n",
        "# define how the model will look like\n",
        "model = tf.keras.Sequential([\n",
        "    \n",
        "    # the first layer (the input layer)\n",
        "    # each observation is 28x28x1 pixels, therefore it is a tensor of rank 3\n",
        "    # since we don't know CNNs yet, we don't know how to feed such input into our net, so we must flatten the images\n",
        "    # there is a convenient method 'Flatten' that simply takes our 28x28x1 tensor and orders it into a (None,) \n",
        "    # or (28x28x1,) = (784,) vector\n",
        "    # this allows us to actually create a feed forward neural network\n",
        "    tf.keras.layers.Flatten(input_shape=(28, 28, 1)), # input layer\n",
        "    \n",
        "    # tf.keras.layers.Dense is basically implementing: output = activation(dot(input, weight) + bias)\n",
        "    # it takes several arguments, but the most important ones for us are the hidden_layer_size and the activation function\n",
        "    tf.keras.layers.Dense(hidden_layer_size, activation='relu'), # 1st hidden layer\n",
        "    tf.keras.layers.Dense(hidden_layer_size, activation='relu'), # 2nd hidden layer\n",
        "    tf.keras.layers.Dense(hidden_layer_size, activation= 'relu'), # 3rd hidden layer\n",
        "    \n",
        "    # the final layer is no different, we just make sure to activate it with softmax\n",
        "    tf.keras.layers.Dense(output_size, activation='softmax') # output layer\n",
        "])\n",
        "\n",
        "# we define the optimizer we'd like to use, \n",
        "# the loss function, \n",
        "# and the metrics we are interested in obtaining at each iteration\n",
        "model.compile(optimizer='adam', loss='sparse_categorical_crossentropy', metrics=['accuracy'])\n",
        "\n",
        "# determine the maximum number of epochs\n",
        "NUM_EPOCHS = 5\n",
        "\n",
        "# we fit the model, specifying the\n",
        "# training data\n",
        "# the total number of epochs\n",
        "# and the validation data we just created ourselves in the format: (inputs,targets)\n",
        "model.fit(train_data, epochs=NUM_EPOCHS, validation_data=(validation_inputs, validation_targets), verbose =2)\n",
        "\n",
        "test_loss, test_accuracy = model.evaluate(test_data)\n",
        "\n",
        "# We can apply some nice formatting if we want to\n",
        "print('Test loss: {0:.2f}. Test accuracy: {1:.2f}%'.format(test_loss, test_accuracy*100.))"
      ],
      "execution_count": 26,
      "outputs": [
        {
          "output_type": "stream",
          "text": [
            "Epoch 1/5\n",
            "540/540 - 10s - loss: 0.3914 - accuracy: 0.8878 - val_loss: 0.2101 - val_accuracy: 0.9350\n",
            "Epoch 2/5\n",
            "540/540 - 10s - loss: 0.1727 - accuracy: 0.9490 - val_loss: 0.1451 - val_accuracy: 0.9570\n",
            "Epoch 3/5\n",
            "540/540 - 10s - loss: 0.1314 - accuracy: 0.9612 - val_loss: 0.1169 - val_accuracy: 0.9642\n",
            "Epoch 4/5\n",
            "540/540 - 10s - loss: 0.1094 - accuracy: 0.9671 - val_loss: 0.0974 - val_accuracy: 0.9725\n",
            "Epoch 5/5\n",
            "540/540 - 10s - loss: 0.0907 - accuracy: 0.9721 - val_loss: 0.0925 - val_accuracy: 0.9727\n",
            "1/1 [==============================] - 0s 1ms/step - loss: 0.1040 - accuracy: 0.9677\n",
            "Test loss: 0.10. Test accuracy: 96.77%\n"
          ],
          "name": "stdout"
        }
      ]
    },
    {
      "cell_type": "markdown",
      "metadata": {
        "id": "ssouZqUI_iQB",
        "colab_type": "text"
      },
      "source": [
        "We can see that the accuracy of the model does not necessarily improve. This is an important lesson for us. Fiddling with a single hyperparameter may not be enough. Sometimes, a deeper net needs to also be wider in order to have higher accuracy."
      ]
    },
    {
      "cell_type": "markdown",
      "metadata": {
        "id": "xv3bw9AU_zCe",
        "colab_type": "text"
      },
      "source": [
        "## Exercise 3. The *width and depth* of the algorithm. Add as many additional layers as you need to reach 5 hidden layers. Moreover, adjust the width of the algorithm as you find suitable. How does the validation accuracy change? What about the time it took the algorithm to train?"
      ]
    },
    {
      "cell_type": "code",
      "metadata": {
        "id": "rdJhq7uu_6-n",
        "colab_type": "code",
        "colab": {
          "base_uri": "https://localhost:8080/",
          "height": 221
        },
        "outputId": "bcdcdf3c-a148-42d8-a61a-126c270214b4"
      },
      "source": [
        "input_size = 784\n",
        "output_size = 10\n",
        "# Use same hidden layer size for both hidden layers. Not a necessity.\n",
        "hidden_layer_size = 1000\n",
        "    \n",
        "# define how the model will look like\n",
        "model = tf.keras.Sequential([\n",
        "    \n",
        "    # the first layer (the input layer)\n",
        "    # each observation is 28x28x1 pixels, therefore it is a tensor of rank 3\n",
        "    # since we don't know CNNs yet, we don't know how to feed such input into our net, so we must flatten the images\n",
        "    # there is a convenient method 'Flatten' that simply takes our 28x28x1 tensor and orders it into a (None,) \n",
        "    # or (28x28x1,) = (784,) vector\n",
        "    # this allows us to actually create a feed forward neural network\n",
        "    tf.keras.layers.Flatten(input_shape=(28, 28, 1)), # input layer\n",
        "    \n",
        "    # tf.keras.layers.Dense is basically implementing: output = activation(dot(input, weight) + bias)\n",
        "    # it takes several arguments, but the most important ones for us are the hidden_layer_size and the activation function\n",
        "    tf.keras.layers.Dense(hidden_layer_size, activation='relu'), # 1st hidden layer\n",
        "    tf.keras.layers.Dense(hidden_layer_size, activation='relu'), # 2nd hidden layer\n",
        "    tf.keras.layers.Dense(hidden_layer_size, activation='relu'), # 3rd hidden layer\n",
        "    tf.keras.layers.Dense(hidden_layer_size, activation='relu'), # 4th hidden layer\n",
        "    tf.keras.layers.Dense(hidden_layer_size, activation='relu'), # 5th hidden layer\n",
        "    \n",
        "    # the final layer is no different, we just make sure to activate it with softmax\n",
        "    tf.keras.layers.Dense(output_size, activation='softmax') # output layer\n",
        "])\n",
        "\n",
        "# we define the optimizer we'd like to use, \n",
        "# the loss function, \n",
        "# and the metrics we are interested in obtaining at each iteration\n",
        "model.compile(optimizer='adam', loss='sparse_categorical_crossentropy', metrics=['accuracy'])\n",
        "\n",
        "# determine the maximum number of epochs\n",
        "NUM_EPOCHS = 5\n",
        "\n",
        "# we fit the model, specifying the\n",
        "# training data\n",
        "# the total number of epochs\n",
        "# and the validation data we just created ourselves in the format: (inputs,targets)\n",
        "model.fit(train_data, epochs=NUM_EPOCHS, validation_data=(validation_inputs, validation_targets), verbose =2)\n",
        "\n",
        "test_loss, test_accuracy = model.evaluate(test_data)\n",
        "\n",
        "# We can apply some nice formatting if we want to\n",
        "print('Test loss: {0:.2f}. Test accuracy: {1:.2f}%'.format(test_loss, test_accuracy*100.))"
      ],
      "execution_count": 27,
      "outputs": [
        {
          "output_type": "stream",
          "text": [
            "Epoch 1/5\n",
            "540/540 - 47s - loss: 0.2367 - accuracy: 0.9302 - val_loss: 0.1262 - val_accuracy: 0.9640\n",
            "Epoch 2/5\n",
            "540/540 - 47s - loss: 0.1077 - accuracy: 0.9704 - val_loss: 0.1114 - val_accuracy: 0.9672\n",
            "Epoch 3/5\n",
            "540/540 - 47s - loss: 0.0803 - accuracy: 0.9778 - val_loss: 0.0824 - val_accuracy: 0.9762\n",
            "Epoch 4/5\n",
            "540/540 - 47s - loss: 0.0613 - accuracy: 0.9823 - val_loss: 0.0743 - val_accuracy: 0.9798\n",
            "Epoch 5/5\n",
            "540/540 - 47s - loss: 0.0571 - accuracy: 0.9840 - val_loss: 0.0733 - val_accuracy: 0.9793\n",
            "1/1 [==============================] - 0s 1ms/step - loss: 0.1021 - accuracy: 0.9749\n",
            "Test loss: 0.10. Test accuracy: 97.49%\n"
          ],
          "name": "stdout"
        }
      ]
    },
    {
      "cell_type": "markdown",
      "metadata": {
        "id": "bkI3NyX1CT2z",
        "colab_type": "text"
      },
      "source": [
        "This exercise is pretty much the same as the previous one. However, it will get us to a much deeper net. As we noted in the previous exercise, you a deeeper net may need to be wider to produce better results.\n",
        "We tried with 1000 hidden units in each layer and 5 hidden layers.\n",
        "The result (as you can see below) is that our model's training was going very well, until it overfit. It did so by quite a lot."
      ]
    },
    {
      "cell_type": "markdown",
      "metadata": {
        "id": "ykhy1YzSCgN7",
        "colab_type": "text"
      },
      "source": [
        "## Exercise 4. Fiddle with the activation functions. Try applying sigmoid transformation to both layers. The sigmoid activation is given by the string 'sigmoid'."
      ]
    },
    {
      "cell_type": "code",
      "metadata": {
        "id": "c55xPngmCudK",
        "colab_type": "code",
        "colab": {
          "base_uri": "https://localhost:8080/",
          "height": 221
        },
        "outputId": "9931c177-8df3-4339-b4eb-1e8fafd46653"
      },
      "source": [
        "input_size = 784\n",
        "output_size = 10\n",
        "# Use same hidden layer size for both hidden layers. Not a necessity.\n",
        "hidden_layer_size = 50\n",
        "    \n",
        "# define how the model will look like\n",
        "model = tf.keras.Sequential([\n",
        "    \n",
        "    # the first layer (the input layer)\n",
        "    # each observation is 28x28x1 pixels, therefore it is a tensor of rank 3\n",
        "    # since we don't know CNNs yet, we don't know how to feed such input into our net, so we must flatten the images\n",
        "    # there is a convenient method 'Flatten' that simply takes our 28x28x1 tensor and orders it into a (None,) \n",
        "    # or (28x28x1,) = (784,) vector\n",
        "    # this allows us to actually create a feed forward neural network\n",
        "    tf.keras.layers.Flatten(input_shape=(28, 28, 1)), # input layer\n",
        "    \n",
        "    # tf.keras.layers.Dense is basically implementing: output = activation(dot(input, weight) + bias)\n",
        "    # it takes several arguments, but the most important ones for us are the hidden_layer_size and the activation function\n",
        "    tf.keras.layers.Dense(hidden_layer_size, activation='sigmoid'), # 1st hidden layer\n",
        "    tf.keras.layers.Dense(hidden_layer_size, activation='sigmoid'), # 2nd hidden layer\n",
        "    \n",
        "    # the final layer is no different, we just make sure to activate it with softmax\n",
        "    tf.keras.layers.Dense(output_size, activation='softmax') # output layer\n",
        "])\n",
        "\n",
        "# we define the optimizer we'd like to use, \n",
        "# the loss function, \n",
        "# and the metrics we are interested in obtaining at each iteration\n",
        "model.compile(optimizer='adam', loss='sparse_categorical_crossentropy', metrics=['accuracy'])\n",
        "\n",
        "# determine the maximum number of epochs\n",
        "NUM_EPOCHS = 5\n",
        "\n",
        "# we fit the model, specifying the\n",
        "# training data\n",
        "# the total number of epochs\n",
        "# and the validation data we just created ourselves in the format: (inputs,targets)\n",
        "model.fit(train_data, epochs=NUM_EPOCHS, validation_data=(validation_inputs, validation_targets), verbose =2)\n",
        "\n",
        "test_loss, test_accuracy = model.evaluate(test_data)\n",
        "\n",
        "# We can apply some nice formatting if we want to\n",
        "print('Test loss: {0:.2f}. Test accuracy: {1:.2f}%'.format(test_loss, test_accuracy*100.))"
      ],
      "execution_count": 30,
      "outputs": [
        {
          "output_type": "stream",
          "text": [
            "Epoch 1/5\n",
            "540/540 - 10s - loss: 1.0199 - accuracy: 0.7867 - val_loss: 0.4192 - val_accuracy: 0.8970\n",
            "Epoch 2/5\n",
            "540/540 - 10s - loss: 0.3289 - accuracy: 0.9130 - val_loss: 0.2732 - val_accuracy: 0.9250\n",
            "Epoch 3/5\n",
            "540/540 - 10s - loss: 0.2448 - accuracy: 0.9306 - val_loss: 0.2215 - val_accuracy: 0.9388\n",
            "Epoch 4/5\n",
            "540/540 - 10s - loss: 0.2025 - accuracy: 0.9421 - val_loss: 0.1891 - val_accuracy: 0.9453\n",
            "Epoch 5/5\n",
            "540/540 - 10s - loss: 0.1743 - accuracy: 0.9503 - val_loss: 0.1651 - val_accuracy: 0.9523\n",
            "1/1 [==============================] - 0s 1ms/step - loss: 0.1675 - accuracy: 0.9509\n",
            "Test loss: 0.17. Test accuracy: 95.09%\n"
          ],
          "name": "stdout"
        }
      ]
    },
    {
      "cell_type": "markdown",
      "metadata": {
        "id": "FMQBwC9kFGSv",
        "colab_type": "text"
      },
      "source": [
        "Adjust the activations from 'relu' to 'sigmoid'.\n",
        "Generally, we should reach an inferior solution. That is because relu 'cleans' the noise in the data (think about it - if a value is negative, relu filters it out, while if it is positive, it takes it into account). For the MNIST dataset, we care only about the intensely black and white parts in the images of the digits, so such filtering proves beneficial.\n",
        "The sigmoid does not filter the signals as well as relu, but still reaches a respectable result (around 95%)."
      ]
    },
    {
      "cell_type": "markdown",
      "metadata": {
        "id": "DrGhI3lvFfnl",
        "colab_type": "text"
      },
      "source": [
        "## Exercise 5. Fiddle with the activation functions. Try applying a ReLu to the first hidden layer and tanh to the second one. The tanh activation is given by the string 'tanh'."
      ]
    },
    {
      "cell_type": "code",
      "metadata": {
        "id": "UqxCCGFvGlsd",
        "colab_type": "code",
        "colab": {
          "base_uri": "https://localhost:8080/",
          "height": 221
        },
        "outputId": "550d22bd-6c60-461a-e4f8-5d30c2c6e52b"
      },
      "source": [
        "input_size = 784\n",
        "output_size = 10\n",
        "# Use same hidden layer size for both hidden layers. Not a necessity.\n",
        "hidden_layer_size = 50\n",
        "    \n",
        "# define how the model will look like\n",
        "model = tf.keras.Sequential([\n",
        "    \n",
        "    # the first layer (the input layer)\n",
        "    # each observation is 28x28x1 pixels, therefore it is a tensor of rank 3\n",
        "    # since we don't know CNNs yet, we don't know how to feed such input into our net, so we must flatten the images\n",
        "    # there is a convenient method 'Flatten' that simply takes our 28x28x1 tensor and orders it into a (None,) \n",
        "    # or (28x28x1,) = (784,) vector\n",
        "    # this allows us to actually create a feed forward neural network\n",
        "    tf.keras.layers.Flatten(input_shape=(28, 28, 1)), # input layer\n",
        "    \n",
        "    # tf.keras.layers.Dense is basically implementing: output = activation(dot(input, weight) + bias)\n",
        "    # it takes several arguments, but the most important ones for us are the hidden_layer_size and the activation function\n",
        "    tf.keras.layers.Dense(hidden_layer_size, activation='relu'), # 1st hidden layer\n",
        "    tf.keras.layers.Dense(hidden_layer_size, activation='tanh'), # 2nd hidden layer\n",
        "    \n",
        "    # the final layer is no different, we just make sure to activate it with softmax\n",
        "    tf.keras.layers.Dense(output_size, activation='softmax') # output layer\n",
        "])\n",
        "\n",
        "# we define the optimizer we'd like to use, \n",
        "# the loss function, \n",
        "# and the metrics we are interested in obtaining at each iteration\n",
        "model.compile(optimizer='adam', loss='sparse_categorical_crossentropy', metrics=['accuracy'])\n",
        "\n",
        "# determine the maximum number of epochs\n",
        "NUM_EPOCHS = 5\n",
        "\n",
        "# we fit the model, specifying the\n",
        "# training data\n",
        "# the total number of epochs\n",
        "# and the validation data we just created ourselves in the format: (inputs,targets)\n",
        "model.fit(train_data, epochs=NUM_EPOCHS, validation_data=(validation_inputs, validation_targets), verbose =2)\n",
        "\n",
        "test_loss, test_accuracy = model.evaluate(test_data)\n",
        "\n",
        "# We can apply some nice formatting if we want to\n",
        "print('Test loss: {0:.2f}. Test accuracy: {1:.2f}%'.format(test_loss, test_accuracy*100.))"
      ],
      "execution_count": 31,
      "outputs": [
        {
          "output_type": "stream",
          "text": [
            "Epoch 1/5\n",
            "540/540 - 10s - loss: 0.4037 - accuracy: 0.8883 - val_loss: 0.2077 - val_accuracy: 0.9375\n",
            "Epoch 2/5\n",
            "540/540 - 10s - loss: 0.1717 - accuracy: 0.9494 - val_loss: 0.1471 - val_accuracy: 0.9538\n",
            "Epoch 3/5\n",
            "540/540 - 10s - loss: 0.1245 - accuracy: 0.9632 - val_loss: 0.1183 - val_accuracy: 0.9648\n",
            "Epoch 4/5\n",
            "540/540 - 10s - loss: 0.0982 - accuracy: 0.9707 - val_loss: 0.0949 - val_accuracy: 0.9728\n",
            "Epoch 5/5\n",
            "540/540 - 10s - loss: 0.0810 - accuracy: 0.9755 - val_loss: 0.0886 - val_accuracy: 0.9728\n",
            "1/1 [==============================] - 0s 1ms/step - loss: 0.0993 - accuracy: 0.9687\n",
            "Test loss: 0.10. Test accuracy: 96.87%\n"
          ],
          "name": "stdout"
        }
      ]
    },
    {
      "cell_type": "markdown",
      "metadata": {
        "id": "98evHNKeHrQU",
        "colab_type": "text"
      },
      "source": [
        "Analogically to the previous lecture, we can change the activation functions. This time though, we will use different activators for the different layers.\n",
        "The result should not be significantly different. However, with different width and depth, that may change."
      ]
    },
    {
      "cell_type": "markdown",
      "metadata": {
        "id": "6sFZb9exHs5P",
        "colab_type": "text"
      },
      "source": [
        "## Exervise 6. Adjust the batch size. Try a batch size of 10000. How does the required time change? What about the accuracy?"
      ]
    },
    {
      "cell_type": "code",
      "metadata": {
        "id": "3HlYkkqQH3o3",
        "colab_type": "code",
        "colab": {
          "base_uri": "https://localhost:8080/",
          "height": 221
        },
        "outputId": "a19d95a8-b387-43ba-c06f-92811fdc3ca4"
      },
      "source": [
        "\n",
        "mnist_dataset, mnist_info = tfds.load(name='mnist', with_info=True, as_supervised=True)\n",
        "\n",
        "mnist_train, mnist_test = mnist_dataset['train'], mnist_dataset['test']\n",
        "\n",
        "num_validation_samples = 0.1 * mnist_info.splits['train'].num_examples\n",
        "# let's cast this number to an integer, as a float may cause an error along the way\n",
        "num_validation_samples = tf.cast(num_validation_samples, tf.int64)\n",
        "\n",
        "# let's also store the number of test samples in a dedicated variable (instead of using the mnist_info one)\n",
        "num_test_samples = mnist_info.splits['test'].num_examples\n",
        "# once more, we'd prefer an integer (rather than the default float)\n",
        "num_test_samples = tf.cast(num_test_samples, tf.int64)\n",
        "\n",
        "def scale(image, label):\n",
        "    # we make sure the value is a float\n",
        "    image = tf.cast(image, tf.float32)\n",
        "    # since the possible values for the inputs are 0 to 255 (256 different shades of grey)\n",
        "    # if we divide each element by 255, we would get the desired result -> all elements will be between 0 and 1 \n",
        "    image /= 255.\n",
        "\n",
        "    return image, label\n",
        "\n",
        "scaled_train_and_validation_data = mnist_train.map(scale)\n",
        "\n",
        "test_data = mnist_test.map(scale)\n",
        "\n",
        "\n",
        "# let's also shuffle the data\n",
        "\n",
        "BUFFER_SIZE = 10000\n",
        "shuffled_train_and_validation_data = scaled_train_and_validation_data.shuffle(BUFFER_SIZE)\n",
        "\n",
        "validation_data = shuffled_train_and_validation_data.take(num_validation_samples)\n",
        "\n",
        "# similarly, the train_data is everything else, so we skip as many samples as there are in the validation dataset\n",
        "train_data = shuffled_train_and_validation_data.skip(num_validation_samples)\n",
        "\n",
        "# determine the batch size\n",
        "BATCH_SIZE = 10000\n",
        "\n",
        "train_data = train_data.batch(BATCH_SIZE)\n",
        "\n",
        "validation_data = validation_data.batch(num_validation_samples)\n",
        "\n",
        "# batch the test data\n",
        "test_data = test_data.batch(num_test_samples)\n",
        "\n",
        "\n",
        "# takes next batch (it is the only batch)\n",
        "# because as_supervized=True, we've got a 2-tuple structure\n",
        "validation_inputs, validation_targets = next(iter(validation_data))\n",
        "\n",
        "input_size = 784\n",
        "output_size = 10\n",
        "# Use same hidden layer size for both hidden layers. Not a necessity.\n",
        "hidden_layer_size = 50\n",
        "    \n",
        "# define how the model will look like\n",
        "model = tf.keras.Sequential([\n",
        "\n",
        "    tf.keras.layers.Flatten(input_shape=(28, 28, 1)), # input layer\n",
        "\n",
        "    tf.keras.layers.Dense(hidden_layer_size, activation='relu'), # 1st hidden layer\n",
        "    tf.keras.layers.Dense(hidden_layer_size, activation='relu'), # 2nd hidden layer\n",
        "    \n",
        "    # the final layer is no different, we just make sure to activate it with softmax\n",
        "    tf.keras.layers.Dense(output_size, activation='softmax') # output layer\n",
        "])\n",
        "\n",
        "model.compile(optimizer='adam', loss='sparse_categorical_crossentropy', metrics=['accuracy'])\n",
        "\n",
        "# determine the maximum number of epochs\n",
        "NUM_EPOCHS = 5\n",
        "\n",
        "model.fit(train_data, epochs=NUM_EPOCHS, validation_data=(validation_inputs, validation_targets), verbose =2)\n",
        "\n",
        "test_loss, test_accuracy = model.evaluate(test_data)\n",
        "\n",
        "# We can apply some nice formatting if we want to\n",
        "print('Test loss: {0:.2f}. Test accuracy: {1:.2f}%'.format(test_loss, test_accuracy*100.))"
      ],
      "execution_count": 32,
      "outputs": [
        {
          "output_type": "stream",
          "text": [
            "Epoch 1/5\n",
            "6/6 - 7s - loss: 2.2174 - accuracy: 0.2260 - val_loss: 2.0284 - val_accuracy: 0.4342\n",
            "Epoch 2/5\n",
            "6/6 - 7s - loss: 1.8796 - accuracy: 0.5184 - val_loss: 1.6628 - val_accuracy: 0.6188\n",
            "Epoch 3/5\n",
            "6/6 - 7s - loss: 1.5055 - accuracy: 0.6593 - val_loss: 1.2886 - val_accuracy: 0.7290\n",
            "Epoch 4/5\n",
            "6/6 - 7s - loss: 1.1484 - accuracy: 0.7584 - val_loss: 0.9692 - val_accuracy: 0.7940\n",
            "Epoch 5/5\n",
            "6/6 - 7s - loss: 0.8645 - accuracy: 0.8097 - val_loss: 0.7368 - val_accuracy: 0.8260\n",
            "1/1 [==============================] - 0s 2ms/step - loss: 0.7145 - accuracy: 0.8364\n",
            "Test loss: 0.71. Test accuracy: 83.64%\n"
          ],
          "name": "stdout"
        }
      ]
    },
    {
      "cell_type": "markdown",
      "metadata": {
        "id": "pt1I88wYJSRc",
        "colab_type": "text"
      },
      "source": [
        "A bigger batch size results in slower training. That's what we expected from the theory. We are taking advantage of batching because of the amazing speed increase.\n",
        "Notice that the validation accuracy starts from a low number and with 5 epochs actually finishes at a lower number. That's because there are fewer updates in a single epoch."
      ]
    },
    {
      "cell_type": "markdown",
      "metadata": {
        "id": "CH1ylXIPJfsA",
        "colab_type": "text"
      },
      "source": [
        "## Exercise 7. Adjust the batch size. Try a batch size of 1. That's the SGD. How do the time and accuracy change? Is the result coherent with the theory?"
      ]
    },
    {
      "cell_type": "code",
      "metadata": {
        "id": "kqWnBQJaJ1SM",
        "colab_type": "code",
        "colab": {
          "base_uri": "https://localhost:8080/",
          "height": 221
        },
        "outputId": "97db0771-f396-482e-c32e-5dc456c027cc"
      },
      "source": [
        "\n",
        "mnist_dataset, mnist_info = tfds.load(name='mnist', with_info=True, as_supervised=True)\n",
        "\n",
        "mnist_train, mnist_test = mnist_dataset['train'], mnist_dataset['test']\n",
        "\n",
        "num_validation_samples = 0.1 * mnist_info.splits['train'].num_examples\n",
        "# let's cast this number to an integer, as a float may cause an error along the way\n",
        "num_validation_samples = tf.cast(num_validation_samples, tf.int64)\n",
        "\n",
        "# let's also store the number of test samples in a dedicated variable (instead of using the mnist_info one)\n",
        "num_test_samples = mnist_info.splits['test'].num_examples\n",
        "# once more, we'd prefer an integer (rather than the default float)\n",
        "num_test_samples = tf.cast(num_test_samples, tf.int64)\n",
        "\n",
        "def scale(image, label):\n",
        "    # we make sure the value is a float\n",
        "    image = tf.cast(image, tf.float32)\n",
        "    # since the possible values for the inputs are 0 to 255 (256 different shades of grey)\n",
        "    # if we divide each element by 255, we would get the desired result -> all elements will be between 0 and 1 \n",
        "    image /= 255.\n",
        "\n",
        "    return image, label\n",
        "\n",
        "scaled_train_and_validation_data = mnist_train.map(scale)\n",
        "\n",
        "test_data = mnist_test.map(scale)\n",
        "\n",
        "\n",
        "# let's also shuffle the data\n",
        "\n",
        "BUFFER_SIZE = 10000\n",
        "shuffled_train_and_validation_data = scaled_train_and_validation_data.shuffle(BUFFER_SIZE)\n",
        "\n",
        "validation_data = shuffled_train_and_validation_data.take(num_validation_samples)\n",
        "\n",
        "# similarly, the train_data is everything else, so we skip as many samples as there are in the validation dataset\n",
        "train_data = shuffled_train_and_validation_data.skip(num_validation_samples)\n",
        "\n",
        "# determine the batch size\n",
        "BATCH_SIZE = 1\n",
        "\n",
        "train_data = train_data.batch(BATCH_SIZE)\n",
        "\n",
        "validation_data = validation_data.batch(num_validation_samples)\n",
        "\n",
        "# batch the test data\n",
        "test_data = test_data.batch(num_test_samples)\n",
        "\n",
        "\n",
        "# takes next batch (it is the only batch)\n",
        "# because as_supervized=True, we've got a 2-tuple structure\n",
        "validation_inputs, validation_targets = next(iter(validation_data))\n",
        "\n",
        "input_size = 784\n",
        "output_size = 10\n",
        "# Use same hidden layer size for both hidden layers. Not a necessity.\n",
        "hidden_layer_size = 50\n",
        "    \n",
        "# define how the model will look like\n",
        "model = tf.keras.Sequential([\n",
        "\n",
        "    tf.keras.layers.Flatten(input_shape=(28, 28, 1)), # input layer\n",
        "\n",
        "    tf.keras.layers.Dense(hidden_layer_size, activation='relu'), # 1st hidden layer\n",
        "    tf.keras.layers.Dense(hidden_layer_size, activation='relu'), # 2nd hidden layer\n",
        "    \n",
        "    # the final layer is no different, we just make sure to activate it with softmax\n",
        "    tf.keras.layers.Dense(output_size, activation='softmax') # output layer\n",
        "])\n",
        "\n",
        "model.compile(optimizer='adam', loss='sparse_categorical_crossentropy', metrics=['accuracy'])\n",
        "\n",
        "# determine the maximum number of epochs\n",
        "NUM_EPOCHS = 5\n",
        "\n",
        "model.fit(train_data, epochs=NUM_EPOCHS, validation_data=(validation_inputs, validation_targets), verbose =2)\n",
        "\n",
        "test_loss, test_accuracy = model.evaluate(test_data)\n",
        "\n",
        "# We can apply some nice formatting if we want to\n",
        "print('Test loss: {0:.2f}. Test accuracy: {1:.2f}%'.format(test_loss, test_accuracy*100.))"
      ],
      "execution_count": 33,
      "outputs": [
        {
          "output_type": "stream",
          "text": [
            "Epoch 1/5\n",
            "54000/54000 - 74s - loss: 0.2527 - accuracy: 0.9250 - val_loss: 0.1701 - val_accuracy: 0.9507\n",
            "Epoch 2/5\n",
            "54000/54000 - 74s - loss: 0.1600 - accuracy: 0.9565 - val_loss: 0.1674 - val_accuracy: 0.9538\n",
            "Epoch 3/5\n",
            "54000/54000 - 75s - loss: 0.1426 - accuracy: 0.9617 - val_loss: 0.1389 - val_accuracy: 0.9623\n",
            "Epoch 4/5\n",
            "54000/54000 - 74s - loss: 0.1373 - accuracy: 0.9649 - val_loss: 0.1663 - val_accuracy: 0.9630\n",
            "Epoch 5/5\n",
            "54000/54000 - 74s - loss: 0.1329 - accuracy: 0.9660 - val_loss: 0.1354 - val_accuracy: 0.9680\n",
            "1/1 [==============================] - 0s 1ms/step - loss: 0.1842 - accuracy: 0.9608\n",
            "Test loss: 0.18. Test accuracy: 96.08%\n"
          ],
          "name": "stdout"
        }
      ]
    },
    {
      "cell_type": "markdown",
      "metadata": {
        "id": "eumSfWhYMHk6",
        "colab_type": "text"
      },
      "source": [
        "A batch size of 1 results in the SGD. It takes the algorithm very little time to process a single batch (as it is one data point), but there are thousands of batches (54000 to be precise), thus the algorithm is actually slow. We have to remember that this depends on the number of cores that we train on. If we are using a CPU with 4 or 8 cores, we can only train 4 or 8 batches at once. The middle ground (mini-batching such as 100 samples per batch) is optimal.\n",
        "\n",
        "We have to notice that the validation accuracy starts from a high number. That's because there are **lots** updates in a single epoch. Once the training is over, the accuracy is lower than all other batch sizes (SGD was an approximation)."
      ]
    },
    {
      "cell_type": "markdown",
      "metadata": {
        "id": "TMV83BvyMc-9",
        "colab_type": "text"
      },
      "source": [
        "## Exercise 8. Adjust the learning rate. Try a value of 0.0001. Does it make a difference?"
      ]
    },
    {
      "cell_type": "code",
      "metadata": {
        "id": "NJUZXIHrMcoV",
        "colab_type": "code",
        "colab": {
          "base_uri": "https://localhost:8080/",
          "height": 1000
        },
        "outputId": "72be63c8-a60c-4806-dfc7-8a419cf13676"
      },
      "source": [
        "\n",
        "mnist_dataset, mnist_info = tfds.load(name='mnist', with_info=True, as_supervised=True)\n",
        "\n",
        "mnist_train, mnist_test = mnist_dataset['train'], mnist_dataset['test']\n",
        "\n",
        "num_validation_samples = 0.1 * mnist_info.splits['train'].num_examples\n",
        "# let's cast this number to an integer, as a float may cause an error along the way\n",
        "num_validation_samples = tf.cast(num_validation_samples, tf.int64)\n",
        "\n",
        "# let's also store the number of test samples in a dedicated variable (instead of using the mnist_info one)\n",
        "num_test_samples = mnist_info.splits['test'].num_examples\n",
        "# once more, we'd prefer an integer (rather than the default float)\n",
        "num_test_samples = tf.cast(num_test_samples, tf.int64)\n",
        "\n",
        "def scale(image, label):\n",
        "    # we make sure the value is a float\n",
        "    image = tf.cast(image, tf.float32)\n",
        "    # since the possible values for the inputs are 0 to 255 (256 different shades of grey)\n",
        "    # if we divide each element by 255, we would get the desired result -> all elements will be between 0 and 1 \n",
        "    image /= 255.\n",
        "\n",
        "    return image, label\n",
        "\n",
        "scaled_train_and_validation_data = mnist_train.map(scale)\n",
        "\n",
        "test_data = mnist_test.map(scale)\n",
        "\n",
        "\n",
        "# let's also shuffle the data\n",
        "\n",
        "BUFFER_SIZE = 10000\n",
        "shuffled_train_and_validation_data = scaled_train_and_validation_data.shuffle(BUFFER_SIZE)\n",
        "\n",
        "validation_data = shuffled_train_and_validation_data.take(num_validation_samples)\n",
        "\n",
        "# similarly, the train_data is everything else, so we skip as many samples as there are in the validation dataset\n",
        "train_data = shuffled_train_and_validation_data.skip(num_validation_samples)\n",
        "\n",
        "# determine the batch size\n",
        "BATCH_SIZE = 1000\n",
        "\n",
        "train_data = train_data.batch(BATCH_SIZE)\n",
        "\n",
        "validation_data = validation_data.batch(num_validation_samples)\n",
        "\n",
        "# batch the test data\n",
        "test_data = test_data.batch(num_test_samples)\n",
        "\n",
        "\n",
        "# takes next batch (it is the only batch)\n",
        "# because as_supervized=True, we've got a 2-tuple structure\n",
        "validation_inputs, validation_targets = next(iter(validation_data))\n",
        "\n",
        "input_size = 784\n",
        "output_size = 10\n",
        "# Use same hidden layer size for both hidden layers. Not a necessity.\n",
        "hidden_layer_size = 50\n",
        "    \n",
        "# define how the model will look like\n",
        "model = tf.keras.Sequential([\n",
        "\n",
        "    tf.keras.layers.Flatten(input_shape=(28, 28, 1)), # input layer\n",
        "\n",
        "    tf.keras.layers.Dense(hidden_layer_size, activation='relu'), # 1st hidden layer\n",
        "    tf.keras.layers.Dense(hidden_layer_size, activation='relu'), # 2nd hidden layer\n",
        "    \n",
        "    # the final layer is no different, we just make sure to activate it with softmax\n",
        "    tf.keras.layers.Dense(output_size, activation='softmax') # output layer\n",
        "])\n",
        "custom_optimizer = tf.keras.optimizers.Adam(learning_rate=0.0001)\n",
        "model.compile(optimizer=custom_optimizer, loss='sparse_categorical_crossentropy', metrics=['accuracy'])\n",
        "\n",
        "# determine the maximum number of epochs\n",
        "NUM_EPOCHS = 50\n",
        "\n",
        "model.fit(train_data, epochs=NUM_EPOCHS, validation_data=(validation_inputs, validation_targets), verbose =2)\n",
        "\n",
        "test_loss, test_accuracy = model.evaluate(test_data)\n",
        "\n",
        "# We can apply some nice formatting if we want to\n",
        "print('Test loss: {0:.2f}. Test accuracy: {1:.2f}%'.format(test_loss, test_accuracy*100.))"
      ],
      "execution_count": 35,
      "outputs": [
        {
          "output_type": "stream",
          "text": [
            "Epoch 1/50\n",
            "54/54 - 9s - loss: 2.1935 - accuracy: 0.2248 - val_loss: 2.0499 - val_accuracy: 0.3450\n",
            "Epoch 2/50\n",
            "54/54 - 9s - loss: 1.8778 - accuracy: 0.4642 - val_loss: 1.6811 - val_accuracy: 0.5930\n",
            "Epoch 3/50\n",
            "54/54 - 10s - loss: 1.4773 - accuracy: 0.6619 - val_loss: 1.2778 - val_accuracy: 0.7085\n",
            "Epoch 4/50\n",
            "54/54 - 9s - loss: 1.1116 - accuracy: 0.7547 - val_loss: 0.9702 - val_accuracy: 0.7878\n",
            "Epoch 5/50\n",
            "54/54 - 9s - loss: 0.8608 - accuracy: 0.8162 - val_loss: 0.7736 - val_accuracy: 0.8262\n",
            "Epoch 6/50\n",
            "54/54 - 9s - loss: 0.7023 - accuracy: 0.8470 - val_loss: 0.6476 - val_accuracy: 0.8535\n",
            "Epoch 7/50\n",
            "54/54 - 9s - loss: 0.5970 - accuracy: 0.8653 - val_loss: 0.5601 - val_accuracy: 0.8662\n",
            "Epoch 8/50\n",
            "54/54 - 9s - loss: 0.5236 - accuracy: 0.8773 - val_loss: 0.4970 - val_accuracy: 0.8785\n",
            "Epoch 9/50\n",
            "54/54 - 9s - loss: 0.4694 - accuracy: 0.8861 - val_loss: 0.4515 - val_accuracy: 0.8885\n",
            "Epoch 10/50\n",
            "54/54 - 9s - loss: 0.4299 - accuracy: 0.8934 - val_loss: 0.4180 - val_accuracy: 0.8947\n",
            "Epoch 11/50\n",
            "54/54 - 9s - loss: 0.3987 - accuracy: 0.8992 - val_loss: 0.3917 - val_accuracy: 0.9013\n",
            "Epoch 12/50\n",
            "54/54 - 9s - loss: 0.3780 - accuracy: 0.9027 - val_loss: 0.3708 - val_accuracy: 0.9032\n",
            "Epoch 13/50\n",
            "54/54 - 9s - loss: 0.3589 - accuracy: 0.9060 - val_loss: 0.3533 - val_accuracy: 0.9085\n",
            "Epoch 14/50\n",
            "54/54 - 9s - loss: 0.3436 - accuracy: 0.9093 - val_loss: 0.3389 - val_accuracy: 0.9107\n",
            "Epoch 15/50\n",
            "54/54 - 9s - loss: 0.3303 - accuracy: 0.9120 - val_loss: 0.3266 - val_accuracy: 0.9127\n",
            "Epoch 16/50\n",
            "54/54 - 9s - loss: 0.3174 - accuracy: 0.9148 - val_loss: 0.3160 - val_accuracy: 0.9162\n",
            "Epoch 17/50\n",
            "54/54 - 9s - loss: 0.3104 - accuracy: 0.9159 - val_loss: 0.3063 - val_accuracy: 0.9183\n",
            "Epoch 18/50\n",
            "54/54 - 9s - loss: 0.3003 - accuracy: 0.9184 - val_loss: 0.2985 - val_accuracy: 0.9192\n",
            "Epoch 19/50\n",
            "54/54 - 9s - loss: 0.2921 - accuracy: 0.9199 - val_loss: 0.2905 - val_accuracy: 0.9222\n",
            "Epoch 20/50\n",
            "54/54 - 9s - loss: 0.2838 - accuracy: 0.9217 - val_loss: 0.2843 - val_accuracy: 0.9235\n",
            "Epoch 21/50\n",
            "54/54 - 9s - loss: 0.2772 - accuracy: 0.9231 - val_loss: 0.2775 - val_accuracy: 0.9252\n",
            "Epoch 22/50\n",
            "54/54 - 9s - loss: 0.2713 - accuracy: 0.9248 - val_loss: 0.2729 - val_accuracy: 0.9275\n",
            "Epoch 23/50\n",
            "54/54 - 9s - loss: 0.2667 - accuracy: 0.9260 - val_loss: 0.2668 - val_accuracy: 0.9292\n",
            "Epoch 24/50\n",
            "54/54 - 9s - loss: 0.2621 - accuracy: 0.9271 - val_loss: 0.2619 - val_accuracy: 0.9302\n",
            "Epoch 25/50\n",
            "54/54 - 9s - loss: 0.2560 - accuracy: 0.9288 - val_loss: 0.2578 - val_accuracy: 0.9312\n",
            "Epoch 26/50\n",
            "54/54 - 9s - loss: 0.2524 - accuracy: 0.9295 - val_loss: 0.2535 - val_accuracy: 0.9320\n",
            "Epoch 27/50\n",
            "54/54 - 9s - loss: 0.2480 - accuracy: 0.9306 - val_loss: 0.2494 - val_accuracy: 0.9335\n",
            "Epoch 28/50\n",
            "54/54 - 9s - loss: 0.2428 - accuracy: 0.9318 - val_loss: 0.2459 - val_accuracy: 0.9345\n",
            "Epoch 29/50\n",
            "54/54 - 9s - loss: 0.2400 - accuracy: 0.9327 - val_loss: 0.2423 - val_accuracy: 0.9348\n",
            "Epoch 30/50\n",
            "54/54 - 9s - loss: 0.2372 - accuracy: 0.9331 - val_loss: 0.2390 - val_accuracy: 0.9350\n",
            "Epoch 31/50\n",
            "54/54 - 9s - loss: 0.2319 - accuracy: 0.9342 - val_loss: 0.2360 - val_accuracy: 0.9357\n",
            "Epoch 32/50\n",
            "54/54 - 9s - loss: 0.2300 - accuracy: 0.9351 - val_loss: 0.2324 - val_accuracy: 0.9363\n",
            "Epoch 33/50\n",
            "54/54 - 9s - loss: 0.2255 - accuracy: 0.9362 - val_loss: 0.2302 - val_accuracy: 0.9367\n",
            "Epoch 34/50\n",
            "54/54 - 9s - loss: 0.2225 - accuracy: 0.9369 - val_loss: 0.2266 - val_accuracy: 0.9388\n",
            "Epoch 35/50\n",
            "54/54 - 9s - loss: 0.2192 - accuracy: 0.9381 - val_loss: 0.2239 - val_accuracy: 0.9385\n",
            "Epoch 36/50\n",
            "54/54 - 9s - loss: 0.2163 - accuracy: 0.9387 - val_loss: 0.2210 - val_accuracy: 0.9392\n",
            "Epoch 37/50\n",
            "54/54 - 9s - loss: 0.2130 - accuracy: 0.9400 - val_loss: 0.2176 - val_accuracy: 0.9403\n",
            "Epoch 38/50\n",
            "54/54 - 9s - loss: 0.2114 - accuracy: 0.9399 - val_loss: 0.2163 - val_accuracy: 0.9388\n",
            "Epoch 39/50\n",
            "54/54 - 9s - loss: 0.2078 - accuracy: 0.9408 - val_loss: 0.2132 - val_accuracy: 0.9403\n",
            "Epoch 40/50\n",
            "54/54 - 9s - loss: 0.2047 - accuracy: 0.9415 - val_loss: 0.2104 - val_accuracy: 0.9410\n",
            "Epoch 41/50\n",
            "54/54 - 9s - loss: 0.2027 - accuracy: 0.9423 - val_loss: 0.2080 - val_accuracy: 0.9423\n",
            "Epoch 42/50\n",
            "54/54 - 9s - loss: 0.2011 - accuracy: 0.9427 - val_loss: 0.2051 - val_accuracy: 0.9423\n",
            "Epoch 43/50\n",
            "54/54 - 9s - loss: 0.1971 - accuracy: 0.9439 - val_loss: 0.2041 - val_accuracy: 0.9420\n",
            "Epoch 44/50\n",
            "54/54 - 9s - loss: 0.1954 - accuracy: 0.9445 - val_loss: 0.2013 - val_accuracy: 0.9428\n",
            "Epoch 45/50\n",
            "54/54 - 9s - loss: 0.1936 - accuracy: 0.9447 - val_loss: 0.1997 - val_accuracy: 0.9435\n",
            "Epoch 46/50\n",
            "54/54 - 9s - loss: 0.1914 - accuracy: 0.9458 - val_loss: 0.1972 - val_accuracy: 0.9437\n",
            "Epoch 47/50\n",
            "54/54 - 9s - loss: 0.1885 - accuracy: 0.9468 - val_loss: 0.1949 - val_accuracy: 0.9450\n",
            "Epoch 48/50\n",
            "54/54 - 9s - loss: 0.1872 - accuracy: 0.9470 - val_loss: 0.1941 - val_accuracy: 0.9442\n",
            "Epoch 49/50\n",
            "54/54 - 9s - loss: 0.1851 - accuracy: 0.9477 - val_loss: 0.1906 - val_accuracy: 0.9458\n",
            "Epoch 50/50\n",
            "54/54 - 9s - loss: 0.1831 - accuracy: 0.9483 - val_loss: 0.1885 - val_accuracy: 0.9460\n",
            "1/1 [==============================] - 0s 1ms/step - loss: 0.1851 - accuracy: 0.9460\n",
            "Test loss: 0.19. Test accuracy: 94.60%\n"
          ],
          "name": "stdout"
        }
      ]
    },
    {
      "cell_type": "markdown",
      "metadata": {
        "id": "jiqRLnIPQNEh",
        "colab_type": "text"
      },
      "source": [
        "We create the custom optimizer with:\n",
        "custom_optimizer = tf.keras.optimizers.Adam(learning_rate=0.0001)\n",
        "Then we change the respective argument in model.compile to reflect this: \n",
        "model.compile(optimizer=custom_optimizer, loss='sparse_categorical_crossentropy', metrics=['accuracy'])\n",
        "Since the learning rate is lower than normal, we may need to adjust the max_epochs (to, say, 50). \n",
        "The result is basically the same, but we reach it much slower.\n",
        "While Adam adapts to the problem, if the orders of magnitude are too different, it may not have enough time to adjust accordingly."
      ]
    },
    {
      "cell_type": "markdown",
      "metadata": {
        "id": "RK1dwp5xQR2z",
        "colab_type": "text"
      },
      "source": [
        "## Exercise 9. Adjust the learning rate. Try a value of 0.02. Does it make a difference?"
      ]
    },
    {
      "cell_type": "code",
      "metadata": {
        "id": "4ft8o5-cQhnN",
        "colab_type": "code",
        "colab": {
          "base_uri": "https://localhost:8080/",
          "height": 221
        },
        "outputId": "66dd9377-a1a2-48e0-e3f9-38746e116809"
      },
      "source": [
        "\n",
        "mnist_dataset, mnist_info = tfds.load(name='mnist', with_info=True, as_supervised=True)\n",
        "\n",
        "mnist_train, mnist_test = mnist_dataset['train'], mnist_dataset['test']\n",
        "\n",
        "num_validation_samples = 0.1 * mnist_info.splits['train'].num_examples\n",
        "# let's cast this number to an integer, as a float may cause an error along the way\n",
        "num_validation_samples = tf.cast(num_validation_samples, tf.int64)\n",
        "\n",
        "# let's also store the number of test samples in a dedicated variable (instead of using the mnist_info one)\n",
        "num_test_samples = mnist_info.splits['test'].num_examples\n",
        "# once more, we'd prefer an integer (rather than the default float)\n",
        "num_test_samples = tf.cast(num_test_samples, tf.int64)\n",
        "\n",
        "def scale(image, label):\n",
        "    # we make sure the value is a float\n",
        "    image = tf.cast(image, tf.float32)\n",
        "    # since the possible values for the inputs are 0 to 255 (256 different shades of grey)\n",
        "    # if we divide each element by 255, we would get the desired result -> all elements will be between 0 and 1 \n",
        "    image /= 255.\n",
        "\n",
        "    return image, label\n",
        "\n",
        "scaled_train_and_validation_data = mnist_train.map(scale)\n",
        "\n",
        "test_data = mnist_test.map(scale)\n",
        "\n",
        "\n",
        "# let's also shuffle the data\n",
        "\n",
        "BUFFER_SIZE = 10000\n",
        "shuffled_train_and_validation_data = scaled_train_and_validation_data.shuffle(BUFFER_SIZE)\n",
        "\n",
        "validation_data = shuffled_train_and_validation_data.take(num_validation_samples)\n",
        "\n",
        "# similarly, the train_data is everything else, so we skip as many samples as there are in the validation dataset\n",
        "train_data = shuffled_train_and_validation_data.skip(num_validation_samples)\n",
        "\n",
        "# determine the batch size\n",
        "BATCH_SIZE = 1000\n",
        "\n",
        "train_data = train_data.batch(BATCH_SIZE)\n",
        "\n",
        "validation_data = validation_data.batch(num_validation_samples)\n",
        "\n",
        "# batch the test data\n",
        "test_data = test_data.batch(num_test_samples)\n",
        "\n",
        "\n",
        "# takes next batch (it is the only batch)\n",
        "# because as_supervized=True, we've got a 2-tuple structure\n",
        "validation_inputs, validation_targets = next(iter(validation_data))\n",
        "\n",
        "input_size = 784\n",
        "output_size = 10\n",
        "# Use same hidden layer size for both hidden layers. Not a necessity.\n",
        "hidden_layer_size = 50\n",
        "    \n",
        "# define how the model will look like\n",
        "model = tf.keras.Sequential([\n",
        "\n",
        "    tf.keras.layers.Flatten(input_shape=(28, 28, 1)), # input layer\n",
        "\n",
        "    tf.keras.layers.Dense(hidden_layer_size, activation='relu'), # 1st hidden layer\n",
        "    tf.keras.layers.Dense(hidden_layer_size, activation='relu'), # 2nd hidden layer\n",
        "    \n",
        "    # the final layer is no different, we just make sure to activate it with softmax\n",
        "    tf.keras.layers.Dense(output_size, activation='softmax') # output layer\n",
        "])\n",
        "custom_optimizer = tf.keras.optimizers.Adam(learning_rate=0.02)\n",
        "model.compile(optimizer=custom_optimizer, loss='sparse_categorical_crossentropy', metrics=['accuracy'])\n",
        "\n",
        "# determine the maximum number of epochs\n",
        "NUM_EPOCHS = 5\n",
        "\n",
        "model.fit(train_data, epochs=NUM_EPOCHS, validation_data=(validation_inputs, validation_targets), verbose =2)\n",
        "\n",
        "test_loss, test_accuracy = model.evaluate(test_data)\n",
        "\n",
        "# We can apply some nice formatting if we want to\n",
        "print('Test loss: {0:.2f}. Test accuracy: {1:.2f}%'.format(test_loss, test_accuracy*100.))"
      ],
      "execution_count": 36,
      "outputs": [
        {
          "output_type": "stream",
          "text": [
            "Epoch 1/5\n",
            "54/54 - 9s - loss: 0.4410 - accuracy: 0.8595 - val_loss: 0.1774 - val_accuracy: 0.9473\n",
            "Epoch 2/5\n",
            "54/54 - 9s - loss: 0.1589 - accuracy: 0.9518 - val_loss: 0.1335 - val_accuracy: 0.9612\n",
            "Epoch 3/5\n",
            "54/54 - 9s - loss: 0.1186 - accuracy: 0.9628 - val_loss: 0.1168 - val_accuracy: 0.9655\n",
            "Epoch 4/5\n",
            "54/54 - 9s - loss: 0.1019 - accuracy: 0.9684 - val_loss: 0.1136 - val_accuracy: 0.9675\n",
            "Epoch 5/5\n",
            "54/54 - 9s - loss: 0.0886 - accuracy: 0.9727 - val_loss: 0.0859 - val_accuracy: 0.9705\n",
            "1/1 [==============================] - 0s 1ms/step - loss: 0.1195 - accuracy: 0.9652\n",
            "Test loss: 0.12. Test accuracy: 96.52%\n"
          ],
          "name": "stdout"
        }
      ]
    },
    {
      "cell_type": "markdown",
      "metadata": {
        "id": "AP_2eEgmRacY",
        "colab_type": "text"
      },
      "source": [
        "While Adam adapts to the problem, if the orders of magnitude are too different, it may not have time to adjust accordingly. We start overfitting before we can reach a neat solution.\n",
        "Therefore, for this problem, even 0.02 is a HIGH starting learning rate. "
      ]
    },
    {
      "cell_type": "markdown",
      "metadata": {
        "id": "wiPmTb6ORc8E",
        "colab_type": "text"
      },
      "source": [
        "## Exercise 10. Combine all the methods above and try to reach a validation accuracy of 98.5+ percent."
      ]
    },
    {
      "cell_type": "code",
      "metadata": {
        "id": "iaj1M76LRjwi",
        "colab_type": "code",
        "colab": {
          "base_uri": "https://localhost:8080/",
          "height": 391
        },
        "outputId": "60050626-b45e-4bde-f321-085545d48d1d"
      },
      "source": [
        "\n",
        "mnist_dataset, mnist_info = tfds.load(name='mnist', with_info=True, as_supervised=True)\n",
        "\n",
        "mnist_train, mnist_test = mnist_dataset['train'], mnist_dataset['test']\n",
        "\n",
        "num_validation_samples = 0.1 * mnist_info.splits['train'].num_examples\n",
        "# let's cast this number to an integer, as a float may cause an error along the way\n",
        "num_validation_samples = tf.cast(num_validation_samples, tf.int64)\n",
        "\n",
        "# let's also store the number of test samples in a dedicated variable (instead of using the mnist_info one)\n",
        "num_test_samples = mnist_info.splits['test'].num_examples\n",
        "# once more, we'd prefer an integer (rather than the default float)\n",
        "num_test_samples = tf.cast(num_test_samples, tf.int64)\n",
        "\n",
        "def scale(image, label):\n",
        "    # we make sure the value is a float\n",
        "    image = tf.cast(image, tf.float32)\n",
        "    # since the possible values for the inputs are 0 to 255 (256 different shades of grey)\n",
        "    # if we divide each element by 255, we would get the desired result -> all elements will be between 0 and 1 \n",
        "    image /= 255.\n",
        "\n",
        "    return image, label\n",
        "\n",
        "scaled_train_and_validation_data = mnist_train.map(scale)\n",
        "\n",
        "test_data = mnist_test.map(scale)\n",
        "\n",
        "\n",
        "# let's also shuffle the data\n",
        "\n",
        "BUFFER_SIZE = 10000\n",
        "shuffled_train_and_validation_data = scaled_train_and_validation_data.shuffle(BUFFER_SIZE)\n",
        "\n",
        "validation_data = shuffled_train_and_validation_data.take(num_validation_samples)\n",
        "\n",
        "# similarly, the train_data is everything else, so we skip as many samples as there are in the validation dataset\n",
        "train_data = shuffled_train_and_validation_data.skip(num_validation_samples)\n",
        "\n",
        "# determine the batch size\n",
        "BATCH_SIZE = 150\n",
        "\n",
        "train_data = train_data.batch(BATCH_SIZE)\n",
        "\n",
        "validation_data = validation_data.batch(num_validation_samples)\n",
        "\n",
        "# batch the test data\n",
        "test_data = test_data.batch(num_test_samples)\n",
        "\n",
        "\n",
        "# takes next batch (it is the only batch)\n",
        "# because as_supervized=True, we've got a 2-tuple structure\n",
        "validation_inputs, validation_targets = next(iter(validation_data))\n",
        "\n",
        "input_size = 784\n",
        "output_size = 10\n",
        "# Use same hidden layer size for both hidden layers. Not a necessity.\n",
        "hidden_layer_size = 5000\n",
        "    \n",
        "# define how the model will look like\n",
        "model = tf.keras.Sequential([\n",
        "\n",
        "    tf.keras.layers.Flatten(input_shape=(28, 28, 1)), # input layer\n",
        "\n",
        "    tf.keras.layers.Dense(hidden_layer_size, activation='relu'), # 1st hidden layer\n",
        "    tf.keras.layers.Dense(hidden_layer_size, activation='relu'), # 2nd hidden layer\n",
        "    \n",
        "    # the final layer is no different, we just make sure to activate it with softmax\n",
        "    tf.keras.layers.Dense(output_size, activation='softmax') # output layer\n",
        "])\n",
        "custom_optimizer = tf.keras.optimizers.Adam(learning_rate=0.02)\n",
        "model.compile(optimizer=custom_optimizer, loss='sparse_categorical_crossentropy', metrics=['accuracy'])\n",
        "\n",
        "# determine the maximum number of epochs\n",
        "NUM_EPOCHS = 10\n",
        "\n",
        "model.fit(train_data, epochs=NUM_EPOCHS, validation_data=(validation_inputs, validation_targets), verbose =2)\n",
        "\n",
        "test_loss, test_accuracy = model.evaluate(test_data)\n",
        "\n",
        "# We can apply some nice formatting if we want to\n",
        "print('Test loss: {0:.2f}. Test accuracy: {1:.2f}%'.format(test_loss, test_accuracy*100.))"
      ],
      "execution_count": 37,
      "outputs": [
        {
          "output_type": "stream",
          "text": [
            "Epoch 1/10\n",
            "360/360 - 279s - loss: 6.0421 - accuracy: 0.8919 - val_loss: 0.2125 - val_accuracy: 0.9400\n",
            "Epoch 2/10\n",
            "360/360 - 279s - loss: 0.2116 - accuracy: 0.9401 - val_loss: 0.2185 - val_accuracy: 0.9385\n",
            "Epoch 3/10\n",
            "360/360 - 278s - loss: 0.1762 - accuracy: 0.9507 - val_loss: 0.1650 - val_accuracy: 0.9532\n",
            "Epoch 4/10\n",
            "360/360 - 279s - loss: 0.1619 - accuracy: 0.9548 - val_loss: 0.1742 - val_accuracy: 0.9518\n",
            "Epoch 5/10\n",
            "360/360 - 279s - loss: 0.1686 - accuracy: 0.9548 - val_loss: 0.1712 - val_accuracy: 0.9548\n",
            "Epoch 6/10\n",
            "360/360 - 278s - loss: 0.1662 - accuracy: 0.9564 - val_loss: 0.1661 - val_accuracy: 0.9512\n",
            "Epoch 7/10\n",
            "360/360 - 279s - loss: 0.1569 - accuracy: 0.9583 - val_loss: 0.1970 - val_accuracy: 0.9470\n",
            "Epoch 8/10\n",
            "360/360 - 279s - loss: 0.1594 - accuracy: 0.9582 - val_loss: 0.2013 - val_accuracy: 0.9522\n",
            "Epoch 9/10\n",
            "360/360 - 279s - loss: 0.1444 - accuracy: 0.9620 - val_loss: 0.1618 - val_accuracy: 0.9592\n",
            "Epoch 10/10\n",
            "360/360 - 280s - loss: 0.1523 - accuracy: 0.9607 - val_loss: 0.2195 - val_accuracy: 0.9462\n",
            "1/1 [==============================] - 0s 1ms/step - loss: 0.2584 - accuracy: 0.9428\n",
            "Test loss: 0.26. Test accuracy: 94.28%\n"
          ],
          "name": "stdout"
        }
      ]
    }
  ]
}